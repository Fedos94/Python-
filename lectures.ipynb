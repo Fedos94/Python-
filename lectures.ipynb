{
 "cells": [
  {
   "cell_type": "code",
   "execution_count": 65,
   "id": "4d2b8a23-a4f9-4a7e-a4c1-d004ae00ddea",
   "metadata": {},
   "outputs": [
    {
     "data": {
      "text/html": [
       "<div>\n",
       "<style scoped>\n",
       "    .dataframe tbody tr th:only-of-type {\n",
       "        vertical-align: middle;\n",
       "    }\n",
       "\n",
       "    .dataframe tbody tr th {\n",
       "        vertical-align: top;\n",
       "    }\n",
       "\n",
       "    .dataframe thead th {\n",
       "        text-align: right;\n",
       "    }\n",
       "</style>\n",
       "<table border=\"1\" class=\"dataframe\">\n",
       "  <thead>\n",
       "    <tr style=\"text-align: right;\">\n",
       "      <th></th>\n",
       "      <th>lecture_id</th>\n",
       "      <th>tag</th>\n",
       "      <th>part</th>\n",
       "      <th>type_of</th>\n",
       "    </tr>\n",
       "  </thead>\n",
       "  <tbody>\n",
       "    <tr>\n",
       "      <th>413</th>\n",
       "      <td>32535</td>\n",
       "      <td>8</td>\n",
       "      <td>5</td>\n",
       "      <td>solving question</td>\n",
       "    </tr>\n",
       "    <tr>\n",
       "      <th>414</th>\n",
       "      <td>32570</td>\n",
       "      <td>113</td>\n",
       "      <td>3</td>\n",
       "      <td>solving question</td>\n",
       "    </tr>\n",
       "    <tr>\n",
       "      <th>415</th>\n",
       "      <td>32604</td>\n",
       "      <td>24</td>\n",
       "      <td>6</td>\n",
       "      <td>concept</td>\n",
       "    </tr>\n",
       "    <tr>\n",
       "      <th>416</th>\n",
       "      <td>32625</td>\n",
       "      <td>142</td>\n",
       "      <td>2</td>\n",
       "      <td>concept</td>\n",
       "    </tr>\n",
       "    <tr>\n",
       "      <th>417</th>\n",
       "      <td>32736</td>\n",
       "      <td>82</td>\n",
       "      <td>3</td>\n",
       "      <td>concept</td>\n",
       "    </tr>\n",
       "  </tbody>\n",
       "</table>\n",
       "</div>"
      ],
      "text/plain": [
       "     lecture_id  tag  part           type_of\n",
       "413       32535    8     5  solving question\n",
       "414       32570  113     3  solving question\n",
       "415       32604   24     6           concept\n",
       "416       32625  142     2           concept\n",
       "417       32736   82     3           concept"
      ]
     },
     "metadata": {},
     "output_type": "display_data"
    },
    {
     "name": "stdout",
     "output_type": "stream",
     "text": [
      "<class 'pandas.core.frame.DataFrame'>\n",
      "RangeIndex: 418 entries, 0 to 417\n",
      "Data columns (total 4 columns):\n",
      " #   Column      Non-Null Count  Dtype \n",
      "---  ------      --------------  ----- \n",
      " 0   lecture_id  418 non-null    int64 \n",
      " 1   tag         418 non-null    int64 \n",
      " 2   part        418 non-null    int64 \n",
      " 3   type_of     418 non-null    object\n",
      "dtypes: int64(3), object(1)\n",
      "memory usage: 13.2+ KB\n"
     ]
    }
   ],
   "source": [
    "import pandas as pd\n",
    "pd.__version__\n",
    "lectures = pd.read_csv('lectures.csv', sep=',')\n",
    "display(lectures.tail())\n",
    "lectures.info()"
   ]
  },
  {
   "cell_type": "code",
   "execution_count": 71,
   "id": "500b0dac-7ef4-42cf-962f-46a385a99260",
   "metadata": {},
   "outputs": [
    {
     "name": "stdout",
     "output_type": "stream",
     "text": [
      "418\n"
     ]
    }
   ],
   "source": [
    "# Уникальные значения в столбцах\n",
    "unique_lectures = lectures['lecture_id'].nunique()\n",
    "print (unique_lectures)"
   ]
  },
  {
   "cell_type": "code",
   "execution_count": 73,
   "id": "e660c040-ef8b-47e6-8465-c78847c36d5a",
   "metadata": {},
   "outputs": [
    {
     "name": "stdout",
     "output_type": "stream",
     "text": [
      "[159  70  45  79 156 114 179 134  93  80  98 101  33  74  60 181  43   4\n",
      " 109  89 142 140 104   1  65 155  26 178 173   7 147 171  78  62  64 141\n",
      " 124 161  24  23 152   8  94 119  37 177  54 157 132   6  67 123  50  25\n",
      " 175 116 136  20 129 127  53 130  13  42  72  36 172  57 151   9 187  58\n",
      " 166  49 164 163  47 139  85  91 158  48  69  76  28 167  18   0  27  19\n",
      " 149  99  39  34  61  14 113 182  55 145  96 133  12 106 126 105 125 168\n",
      "   5  71  82  44 108 143  90  16 112  73  40 111  51  97  31  52 180 138\n",
      " 150 120 128  68  95 170 184  30 174 153  66  17  75  83 183 148 144 103\n",
      " 118  15 115 176 137 169   2]\n"
     ]
    }
   ],
   "source": [
    "unique_tags = lectures['tag'].unique()\n",
    "print (unique_tags)"
   ]
  },
  {
   "cell_type": "code",
   "execution_count": 21,
   "id": "ad8492c1-f405-4483-858f-ca854f03d19b",
   "metadata": {},
   "outputs": [
    {
     "name": "stdout",
     "output_type": "stream",
     "text": [
      "count    418.0\n",
      "mean       1.0\n",
      "std        0.0\n",
      "min        1.0\n",
      "25%        1.0\n",
      "50%        1.0\n",
      "75%        1.0\n",
      "max        1.0\n",
      "Name: part, dtype: float64\n"
     ]
    }
   ],
   "source": [
    "# Анализ частей\n",
    "part_count = lectures.groupby('lecture_id')['part'].nunique()\n",
    "print(part_count.describe())"
   ]
  },
  {
   "cell_type": "code",
   "execution_count": 77,
   "id": "be18bef4-8638-4f10-8e65-87795ed77946",
   "metadata": {},
   "outputs": [
    {
     "name": "stdout",
     "output_type": "stream",
     "text": [
      "Корреляционная матрица:\n",
      "           tag      part\n",
      "tag   1.000000 -0.041081\n",
      "part -0.041081  1.000000\n"
     ]
    }
   ],
   "source": [
    "correlation_matrix = lectures[['tag', 'part']].corr()\n",
    "print(\"Корреляционная матрица:\")\n",
    "print(correlation_matrix)"
   ]
  },
  {
   "cell_type": "code",
   "execution_count": 79,
   "id": "a68cdb66-e72d-434d-b643-359301bc9d19",
   "metadata": {},
   "outputs": [
    {
     "name": "stdout",
     "output_type": "stream",
     "text": [
      "Средние значения по типу лекции:\n",
      "                         tag      part\n",
      "type_of                               \n",
      "concept            95.536036  4.738739\n",
      "intention          75.142857  2.000000\n",
      "solving question   93.543011  3.774194\n",
      "starter           119.666667  5.333333\n"
     ]
    }
   ],
   "source": [
    "group_by_type = lectures.groupby('type_of').mean()\n",
    "print(\"Средние значения по типу лекции:\")\n",
    "print(group_by_type[['tag', 'part']])"
   ]
  },
  {
   "cell_type": "code",
   "execution_count": 81,
   "id": "0f4597e8-7e28-453e-b5fc-3d60fb1c0b78",
   "metadata": {},
   "outputs": [
    {
     "name": "stdout",
     "output_type": "stream",
     "text": [
      "Частота значений в type_of:\n",
      "type_of\n",
      "concept             222\n",
      "solving question    186\n",
      "intention             7\n",
      "starter               3\n",
      "Name: count, dtype: int64\n"
     ]
    }
   ],
   "source": [
    "type_counts = lectures['type_of'].value_counts()\n",
    "print(\"Частота значений в type_of:\")\n",
    "print(type_counts)"
   ]
  },
  {
   "cell_type": "code",
   "execution_count": 85,
   "id": "322caac8-9bc5-4877-9ffe-ca42b400efbc",
   "metadata": {},
   "outputs": [
    {
     "name": "stdout",
     "output_type": "stream",
     "text": [
      "Сумма tag по типу лекции:\n",
      "type_of\n",
      "concept             21209\n",
      "intention             526\n",
      "solving question    17399\n",
      "starter               359\n",
      "Name: tag, dtype: int64\n"
     ]
    }
   ],
   "source": [
    "total_tag_by_type = lectures.groupby('type_of')['tag'].sum()\n",
    "print(\"Сумма tag по типу лекции:\")\n",
    "print(total_tag_by_type)"
   ]
  },
  {
   "cell_type": "code",
   "execution_count": 101,
   "id": "057d5ffd-db1c-4a1c-a69c-d23e7b1e0aa9",
   "metadata": {},
   "outputs": [
    {
     "name": "stdout",
     "output_type": "stream",
     "text": [
      "Сводная таблица среднего значения 'part' для каждого типа лекции:\n",
      "                      part\n",
      "type_of                   \n",
      "concept           4.738739\n",
      "intention         2.000000\n",
      "solving question  3.774194\n",
      "starter           5.333333\n"
     ]
    }
   ],
   "source": [
    "pivot_table = pd.pivot_table(lectures, values='part', index='type_of', aggfunc='mean')\n",
    "print(\"Сводная таблица среднего значения 'part' для каждого типа лекции:\")\n",
    "print(pivot_table)"
   ]
  },
  {
   "cell_type": "code",
   "execution_count": null,
   "id": "c7c495e0-e032-43e5-aace-dd426ca282a2",
   "metadata": {},
   "outputs": [],
   "source": []
  }
 ],
 "metadata": {
  "kernelspec": {
   "display_name": "Python 3 (ipykernel)",
   "language": "python",
   "name": "python3"
  },
  "language_info": {
   "codemirror_mode": {
    "name": "ipython",
    "version": 3
   },
   "file_extension": ".py",
   "mimetype": "text/x-python",
   "name": "python",
   "nbconvert_exporter": "python",
   "pygments_lexer": "ipython3",
   "version": "3.12.4"
  }
 },
 "nbformat": 4,
 "nbformat_minor": 5
}
