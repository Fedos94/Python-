{
 "cells": [
  {
   "cell_type": "code",
   "execution_count": 5,
   "id": "4d2b8a23-a4f9-4a7e-a4c1-d004ae00ddea",
   "metadata": {},
   "outputs": [
    {
     "data": {
      "text/html": [
       "<div>\n",
       "<style scoped>\n",
       "    .dataframe tbody tr th:only-of-type {\n",
       "        vertical-align: middle;\n",
       "    }\n",
       "\n",
       "    .dataframe tbody tr th {\n",
       "        vertical-align: top;\n",
       "    }\n",
       "\n",
       "    .dataframe thead th {\n",
       "        text-align: right;\n",
       "    }\n",
       "</style>\n",
       "<table border=\"1\" class=\"dataframe\">\n",
       "  <thead>\n",
       "    <tr style=\"text-align: right;\">\n",
       "      <th></th>\n",
       "      <th>lecture_id</th>\n",
       "      <th>tag</th>\n",
       "      <th>part</th>\n",
       "      <th>type_of</th>\n",
       "    </tr>\n",
       "  </thead>\n",
       "  <tbody>\n",
       "    <tr>\n",
       "      <th>0</th>\n",
       "      <td>89</td>\n",
       "      <td>159</td>\n",
       "      <td>5</td>\n",
       "      <td>concept</td>\n",
       "    </tr>\n",
       "    <tr>\n",
       "      <th>1</th>\n",
       "      <td>100</td>\n",
       "      <td>70</td>\n",
       "      <td>1</td>\n",
       "      <td>concept</td>\n",
       "    </tr>\n",
       "    <tr>\n",
       "      <th>2</th>\n",
       "      <td>185</td>\n",
       "      <td>45</td>\n",
       "      <td>6</td>\n",
       "      <td>concept</td>\n",
       "    </tr>\n",
       "    <tr>\n",
       "      <th>3</th>\n",
       "      <td>192</td>\n",
       "      <td>79</td>\n",
       "      <td>5</td>\n",
       "      <td>solving question</td>\n",
       "    </tr>\n",
       "    <tr>\n",
       "      <th>4</th>\n",
       "      <td>317</td>\n",
       "      <td>156</td>\n",
       "      <td>5</td>\n",
       "      <td>solving question</td>\n",
       "    </tr>\n",
       "    <tr>\n",
       "      <th>...</th>\n",
       "      <td>...</td>\n",
       "      <td>...</td>\n",
       "      <td>...</td>\n",
       "      <td>...</td>\n",
       "    </tr>\n",
       "    <tr>\n",
       "      <th>413</th>\n",
       "      <td>32535</td>\n",
       "      <td>8</td>\n",
       "      <td>5</td>\n",
       "      <td>solving question</td>\n",
       "    </tr>\n",
       "    <tr>\n",
       "      <th>414</th>\n",
       "      <td>32570</td>\n",
       "      <td>113</td>\n",
       "      <td>3</td>\n",
       "      <td>solving question</td>\n",
       "    </tr>\n",
       "    <tr>\n",
       "      <th>415</th>\n",
       "      <td>32604</td>\n",
       "      <td>24</td>\n",
       "      <td>6</td>\n",
       "      <td>concept</td>\n",
       "    </tr>\n",
       "    <tr>\n",
       "      <th>416</th>\n",
       "      <td>32625</td>\n",
       "      <td>142</td>\n",
       "      <td>2</td>\n",
       "      <td>concept</td>\n",
       "    </tr>\n",
       "    <tr>\n",
       "      <th>417</th>\n",
       "      <td>32736</td>\n",
       "      <td>82</td>\n",
       "      <td>3</td>\n",
       "      <td>concept</td>\n",
       "    </tr>\n",
       "  </tbody>\n",
       "</table>\n",
       "<p>418 rows × 4 columns</p>\n",
       "</div>"
      ],
      "text/plain": [
       "     lecture_id  tag  part           type_of\n",
       "0            89  159     5           concept\n",
       "1           100   70     1           concept\n",
       "2           185   45     6           concept\n",
       "3           192   79     5  solving question\n",
       "4           317  156     5  solving question\n",
       "..          ...  ...   ...               ...\n",
       "413       32535    8     5  solving question\n",
       "414       32570  113     3  solving question\n",
       "415       32604   24     6           concept\n",
       "416       32625  142     2           concept\n",
       "417       32736   82     3           concept\n",
       "\n",
       "[418 rows x 4 columns]"
      ]
     },
     "metadata": {},
     "output_type": "display_data"
    },
    {
     "name": "stdout",
     "output_type": "stream",
     "text": [
      "<class 'pandas.core.frame.DataFrame'>\n",
      "RangeIndex: 418 entries, 0 to 417\n",
      "Data columns (total 4 columns):\n",
      " #   Column      Non-Null Count  Dtype \n",
      "---  ------      --------------  ----- \n",
      " 0   lecture_id  418 non-null    int64 \n",
      " 1   tag         418 non-null    int64 \n",
      " 2   part        418 non-null    int64 \n",
      " 3   type_of     418 non-null    object\n",
      "dtypes: int64(3), object(1)\n",
      "memory usage: 13.2+ KB\n"
     ]
    }
   ],
   "source": [
    "import pandas as pd\n",
    "pd.__version__\n",
    "lectures = pd.read_csv('lectures.csv', sep=',')\n",
    "display(lectures)\n",
    "lectures.info()"
   ]
  },
  {
   "cell_type": "code",
   "execution_count": 33,
   "id": "500b0dac-7ef4-42cf-962f-46a385a99260",
   "metadata": {},
   "outputs": [
    {
     "name": "stdout",
     "output_type": "stream",
     "text": [
      "418\n",
      "[159  70  45  79 156 114 179 134  93  80  98 101  33  74  60 181  43   4\n",
      " 109  89 142 140 104   1  65 155  26 178 173   7 147 171  78  62  64 141\n",
      " 124 161  24  23 152   8  94 119  37 177  54 157 132   6  67 123  50  25\n",
      " 175 116 136  20 129 127  53 130  13  42  72  36 172  57 151   9 187  58\n",
      " 166  49 164 163  47 139  85  91 158  48  69  76  28 167  18   0  27  19\n",
      " 149  99  39  34  61  14 113 182  55 145  96 133  12 106 126 105 125 168\n",
      "   5  71  82  44 108 143  90  16 112  73  40 111  51  97  31  52 180 138\n",
      " 150 120 128  68  95 170 184  30 174 153  66  17  75  83 183 148 144 103\n",
      " 118  15 115 176 137 169   2]\n"
     ]
    },
    {
     "data": {
      "text/plain": [
       "type_of\n",
       "concept             222\n",
       "solving question    186\n",
       "intention             7\n",
       "starter               3\n",
       "Name: count, dtype: int64"
      ]
     },
     "metadata": {},
     "output_type": "display_data"
    }
   ],
   "source": [
    "# Уникальные значения в столбцах\n",
    "unique_lectures = lectures['lecture_id'].nunique()\n",
    "unique_tags = lectures['tag'].unique()\n",
    "unique_types = lectures['type_of'].value_counts()\n",
    "print (unique_lectures)\n",
    "print (unique_tags)\n",
    "print (unique_types)"
   ]
  },
  {
   "cell_type": "code",
   "execution_count": 19,
   "id": "490b4f3f-d997-47bc-ac3f-fb22e85642a1",
   "metadata": {},
   "outputs": [
    {
     "data": {
      "text/plain": [
       "type_of\n",
       "concept             222\n",
       "solving question    186\n",
       "intention             7\n",
       "starter               3\n",
       "Name: count, dtype: int64"
      ]
     },
     "execution_count": 19,
     "metadata": {},
     "output_type": "execute_result"
    }
   ],
   "source": [
    "# Частота типов лекций\n",
    "type_count = lectures['type_of'].value_counts()\n",
    "type_count"
   ]
  },
  {
   "cell_type": "code",
   "execution_count": 41,
   "id": "b634ecc4-1768-4bf3-aaa5-515e886c27e7",
   "metadata": {},
   "outputs": [
    {
     "name": "stdout",
     "output_type": "stream",
     "text": [
      "tag\n",
      "0      2\n",
      "1      4\n",
      "2      1\n",
      "4      4\n",
      "5      2\n",
      "      ..\n",
      "181    4\n",
      "182    3\n",
      "183    1\n",
      "184    2\n",
      "187    1\n",
      "Name: lecture_id, Length: 151, dtype: int64\n"
     ]
    }
   ],
   "source": [
    "# Считаем количество уникальных лекций для каждого тега\n",
    "lecture_count_per_tag = lectures.groupby('tag')['lecture_id'].nunique()\n",
    "print (lecture_count_per_tag)"
   ]
  },
  {
   "cell_type": "code",
   "execution_count": 21,
   "id": "ad8492c1-f405-4483-858f-ca854f03d19b",
   "metadata": {},
   "outputs": [
    {
     "name": "stdout",
     "output_type": "stream",
     "text": [
      "count    418.0\n",
      "mean       1.0\n",
      "std        0.0\n",
      "min        1.0\n",
      "25%        1.0\n",
      "50%        1.0\n",
      "75%        1.0\n",
      "max        1.0\n",
      "Name: part, dtype: float64\n"
     ]
    }
   ],
   "source": [
    "# Анализ частей\n",
    "part_count = lectures.groupby('lecture_id')['part'].nunique()\n",
    "print(part_count.describe())"
   ]
  }
 ],
 "metadata": {
  "kernelspec": {
   "display_name": "Python 3 (ipykernel)",
   "language": "python",
   "name": "python3"
  },
  "language_info": {
   "codemirror_mode": {
    "name": "ipython",
    "version": 3
   },
   "file_extension": ".py",
   "mimetype": "text/x-python",
   "name": "python",
   "nbconvert_exporter": "python",
   "pygments_lexer": "ipython3",
   "version": "3.12.4"
  }
 },
 "nbformat": 4,
 "nbformat_minor": 5
}
