{
 "cells": [
  {
   "cell_type": "code",
   "execution_count": 19,
   "id": "55ffd666-f228-4ee7-80de-0dce3425b0ab",
   "metadata": {},
   "outputs": [
    {
     "data": {
      "text/plain": [
       "'2.2.2'"
      ]
     },
     "execution_count": 19,
     "metadata": {},
     "output_type": "execute_result"
    }
   ],
   "source": [
    "import pandas as pd\n",
    "pd.__version__\n"
   ]
  },
  {
   "cell_type": "code",
   "execution_count": 85,
   "id": "a09b10bb-7c96-471b-9e04-cf0bf984eaaa",
   "metadata": {},
   "outputs": [
    {
     "data": {
      "text/html": [
       "<div>\n",
       "<style scoped>\n",
       "    .dataframe tbody tr th:only-of-type {\n",
       "        vertical-align: middle;\n",
       "    }\n",
       "\n",
       "    .dataframe tbody tr th {\n",
       "        vertical-align: top;\n",
       "    }\n",
       "\n",
       "    .dataframe thead th {\n",
       "        text-align: right;\n",
       "    }\n",
       "</style>\n",
       "<table border=\"1\" class=\"dataframe\">\n",
       "  <thead>\n",
       "    <tr style=\"text-align: right;\">\n",
       "      <th></th>\n",
       "      <th>gender</th>\n",
       "      <th>race/ethnicity</th>\n",
       "      <th>parental level of education</th>\n",
       "      <th>lunch</th>\n",
       "      <th>test preparation course</th>\n",
       "      <th>math score</th>\n",
       "      <th>reading score</th>\n",
       "      <th>writing score</th>\n",
       "    </tr>\n",
       "  </thead>\n",
       "  <tbody>\n",
       "    <tr>\n",
       "      <th>0</th>\n",
       "      <td>female</td>\n",
       "      <td>group B</td>\n",
       "      <td>bachelor's degree</td>\n",
       "      <td>standard</td>\n",
       "      <td>none</td>\n",
       "      <td>72</td>\n",
       "      <td>72</td>\n",
       "      <td>74</td>\n",
       "    </tr>\n",
       "    <tr>\n",
       "      <th>1</th>\n",
       "      <td>female</td>\n",
       "      <td>group C</td>\n",
       "      <td>some college</td>\n",
       "      <td>standard</td>\n",
       "      <td>completed</td>\n",
       "      <td>69</td>\n",
       "      <td>90</td>\n",
       "      <td>88</td>\n",
       "    </tr>\n",
       "    <tr>\n",
       "      <th>2</th>\n",
       "      <td>female</td>\n",
       "      <td>group B</td>\n",
       "      <td>master's degree</td>\n",
       "      <td>standard</td>\n",
       "      <td>none</td>\n",
       "      <td>90</td>\n",
       "      <td>95</td>\n",
       "      <td>93</td>\n",
       "    </tr>\n",
       "    <tr>\n",
       "      <th>3</th>\n",
       "      <td>male</td>\n",
       "      <td>group A</td>\n",
       "      <td>associate's degree</td>\n",
       "      <td>free/reduced</td>\n",
       "      <td>none</td>\n",
       "      <td>47</td>\n",
       "      <td>57</td>\n",
       "      <td>44</td>\n",
       "    </tr>\n",
       "    <tr>\n",
       "      <th>4</th>\n",
       "      <td>male</td>\n",
       "      <td>group C</td>\n",
       "      <td>some college</td>\n",
       "      <td>standard</td>\n",
       "      <td>none</td>\n",
       "      <td>76</td>\n",
       "      <td>78</td>\n",
       "      <td>75</td>\n",
       "    </tr>\n",
       "  </tbody>\n",
       "</table>\n",
       "</div>"
      ],
      "text/plain": [
       "   gender race/ethnicity parental level of education         lunch  \\\n",
       "0  female        group B           bachelor's degree      standard   \n",
       "1  female        group C                some college      standard   \n",
       "2  female        group B             master's degree      standard   \n",
       "3    male        group A          associate's degree  free/reduced   \n",
       "4    male        group C                some college      standard   \n",
       "\n",
       "  test preparation course  math score  reading score  writing score  \n",
       "0                    none          72             72             74  \n",
       "1               completed          69             90             88  \n",
       "2                    none          90             95             93  \n",
       "3                    none          47             57             44  \n",
       "4                    none          76             78             75  "
      ]
     },
     "metadata": {},
     "output_type": "display_data"
    }
   ],
   "source": [
    "students_performance = pd.read_csv('students_performance.csv', sep=',')\n",
    "display(students_performance.head())"
   ]
  },
  {
   "cell_type": "code",
   "execution_count": 33,
   "id": "a36cb277-9557-4f68-bf61-d6dd2e0bb3f1",
   "metadata": {},
   "outputs": [
    {
     "name": "stdout",
     "output_type": "stream",
     "text": [
      "<class 'pandas.core.frame.DataFrame'>\n",
      "RangeIndex: 1000 entries, 0 to 999\n",
      "Data columns (total 8 columns):\n",
      " #   Column                       Non-Null Count  Dtype \n",
      "---  ------                       --------------  ----- \n",
      " 0   gender                       1000 non-null   object\n",
      " 1   race/ethnicity               1000 non-null   object\n",
      " 2   parental level of education  1000 non-null   object\n",
      " 3   lunch                        1000 non-null   object\n",
      " 4   test preparation course      1000 non-null   object\n",
      " 5   math score                   1000 non-null   int64 \n",
      " 6   reading score                1000 non-null   int64 \n",
      " 7   writing score                1000 non-null   int64 \n",
      "dtypes: int64(3), object(5)\n",
      "memory usage: 62.6+ KB\n"
     ]
    }
   ],
   "source": [
    "students_performance.info()"
   ]
  },
  {
   "cell_type": "code",
   "execution_count": 67,
   "id": "328e1cbf-dc61-4cd8-b316-46dae1d29b6b",
   "metadata": {},
   "outputs": [
    {
     "data": {
      "text/plain": [
       "gender                               female\n",
       "race/ethnicity                      group C\n",
       "parental level of education    some college\n",
       "lunch                              standard\n",
       "test preparation course           completed\n",
       "math score                               70\n",
       "reading score                            89\n",
       "writing score                            88\n",
       "Name: 155, dtype: object"
      ]
     },
     "execution_count": 67,
     "metadata": {},
     "output_type": "execute_result"
    }
   ],
   "source": [
    "students_performance.loc[155]"
   ]
  },
  {
   "cell_type": "code",
   "execution_count": 81,
   "id": "94b8e343-c47c-4b77-b56f-1a48db8eecc1",
   "metadata": {},
   "outputs": [
    {
     "data": {
      "text/plain": [
       "parental level of education\n",
       "some college          226\n",
       "associate's degree    222\n",
       "high school           196\n",
       "some high school      179\n",
       "bachelor's degree     118\n",
       "master's degree        59\n",
       "Name: count, dtype: int64"
      ]
     },
     "execution_count": 81,
     "metadata": {},
     "output_type": "execute_result"
    }
   ],
   "source": [
    "# Подсчет количества студентов по уровням образования родителей\n",
    "landsize_median = students_performance['parental level of education'].value_counts() \n",
    "landsize_median"
   ]
  },
  {
   "cell_type": "code",
   "execution_count": 83,
   "id": "8b20fc04-5bf8-45b3-b40f-ea5207fab9dc",
   "metadata": {},
   "outputs": [
    {
     "name": "stdout",
     "output_type": "stream",
     "text": [
      "                             math score  reading score  writing score\n",
      "parental level of education                                          \n",
      "associate's degree            67.882883      70.927928      69.896396\n",
      "bachelor's degree             69.389831      73.000000      73.381356\n",
      "high school                   62.137755      64.704082      62.448980\n",
      "master's degree               69.745763      75.372881      75.677966\n",
      "some college                  67.128319      69.460177      68.840708\n",
      "some high school              63.497207      66.938547      64.888268\n"
     ]
    }
   ],
   "source": [
    "# Средние оценки по уровням образования родителей\n",
    "average_scores_by_education = students_performance.groupby('parental level of education')[['math score', 'reading score', 'writing score']].mean()\n",
    "print(average_scores_by_education)"
   ]
  },
  {
   "cell_type": "code",
   "execution_count": 75,
   "id": "2c5930f3-fef4-4443-b1d8-b832b79adb10",
   "metadata": {},
   "outputs": [
    {
     "name": "stdout",
     "output_type": "stream",
     "text": [
      "gender\n",
      "female    518\n",
      "male      482\n",
      "Name: count, dtype: int64\n"
     ]
    }
   ],
   "source": [
    "#Подсчет количества студентов каждого гендера\n",
    "gender_counts = students_performance['gender'].value_counts()\n",
    "print(gender_counts)"
   ]
  },
  {
   "cell_type": "code",
   "execution_count": 97,
   "id": "a58497d8-15e6-4654-895e-1dc8bf77445e",
   "metadata": {},
   "outputs": [
    {
     "data": {
      "text/html": [
       "<div>\n",
       "<style scoped>\n",
       "    .dataframe tbody tr th:only-of-type {\n",
       "        vertical-align: middle;\n",
       "    }\n",
       "\n",
       "    .dataframe tbody tr th {\n",
       "        vertical-align: top;\n",
       "    }\n",
       "\n",
       "    .dataframe thead th {\n",
       "        text-align: right;\n",
       "    }\n",
       "</style>\n",
       "<table border=\"1\" class=\"dataframe\">\n",
       "  <thead>\n",
       "    <tr style=\"text-align: right;\">\n",
       "      <th></th>\n",
       "      <th>math score</th>\n",
       "      <th>reading score</th>\n",
       "      <th>writing score</th>\n",
       "    </tr>\n",
       "    <tr>\n",
       "      <th>gender</th>\n",
       "      <th></th>\n",
       "      <th></th>\n",
       "      <th></th>\n",
       "    </tr>\n",
       "  </thead>\n",
       "  <tbody>\n",
       "    <tr>\n",
       "      <th>female</th>\n",
       "      <td>63.633205</td>\n",
       "      <td>72.608108</td>\n",
       "      <td>72.467181</td>\n",
       "    </tr>\n",
       "    <tr>\n",
       "      <th>male</th>\n",
       "      <td>68.728216</td>\n",
       "      <td>65.473029</td>\n",
       "      <td>63.311203</td>\n",
       "    </tr>\n",
       "  </tbody>\n",
       "</table>\n",
       "</div>"
      ],
      "text/plain": [
       "        math score  reading score  writing score\n",
       "gender                                          \n",
       "female   63.633205      72.608108      72.467181\n",
       "male     68.728216      65.473029      63.311203"
      ]
     },
     "metadata": {},
     "output_type": "display_data"
    }
   ],
   "source": [
    "#Рассмотрим средние оценки по гендерной принадлежности\n",
    "average_scores = students_performance.groupby('gender')[['math score', 'reading score', 'writing score']].mean()\n",
    "display(average_scores)"
   ]
  },
  {
   "cell_type": "code",
   "execution_count": 93,
   "id": "ecbf2101-ed82-499f-b7ea-7dbad5bb2167",
   "metadata": {},
   "outputs": [
    {
     "data": {
      "text/html": [
       "<div>\n",
       "<style scoped>\n",
       "    .dataframe tbody tr th:only-of-type {\n",
       "        vertical-align: middle;\n",
       "    }\n",
       "\n",
       "    .dataframe tbody tr th {\n",
       "        vertical-align: top;\n",
       "    }\n",
       "\n",
       "    .dataframe thead th {\n",
       "        text-align: right;\n",
       "    }\n",
       "</style>\n",
       "<table border=\"1\" class=\"dataframe\">\n",
       "  <thead>\n",
       "    <tr style=\"text-align: right;\">\n",
       "      <th></th>\n",
       "      <th>gender</th>\n",
       "      <th>Count</th>\n",
       "      <th>Average Math Score</th>\n",
       "      <th>Average Reading Score</th>\n",
       "      <th>Average Writing Score</th>\n",
       "    </tr>\n",
       "  </thead>\n",
       "  <tbody>\n",
       "    <tr>\n",
       "      <th>0</th>\n",
       "      <td>female</td>\n",
       "      <td>518</td>\n",
       "      <td>63.633205</td>\n",
       "      <td>72.608108</td>\n",
       "      <td>72.467181</td>\n",
       "    </tr>\n",
       "    <tr>\n",
       "      <th>1</th>\n",
       "      <td>male</td>\n",
       "      <td>482</td>\n",
       "      <td>68.728216</td>\n",
       "      <td>65.473029</td>\n",
       "      <td>63.311203</td>\n",
       "    </tr>\n",
       "  </tbody>\n",
       "</table>\n",
       "</div>"
      ],
      "text/plain": [
       "   gender  Count  Average Math Score  Average Reading Score  \\\n",
       "0  female    518           63.633205              72.608108   \n",
       "1    male    482           68.728216              65.473029   \n",
       "\n",
       "   Average Writing Score  \n",
       "0              72.467181  \n",
       "1              63.311203  "
      ]
     },
     "metadata": {},
     "output_type": "display_data"
    }
   ],
   "source": [
    "#Для наглядности сохраним в одном DataFrame\n",
    "summary = pd.DataFrame({\n",
    "    'Count': gender_counts,'Average Math Score': average_scores['math score'],'Average Reading Score': average_scores['reading score'],'Average Writing Score': average_scores['writing score']}).reset_index()\n",
    "\n",
    "display (summary)"
   ]
  },
  {
   "cell_type": "code",
   "execution_count": 99,
   "id": "af449042-a935-4ad5-b1b7-53b156fdd5f7",
   "metadata": {},
   "outputs": [
    {
     "name": "stdout",
     "output_type": "stream",
     "text": [
      "race/ethnicity\n",
      "group C    319\n",
      "group D    262\n",
      "group B    190\n",
      "group E    140\n",
      "group A     89\n",
      "Name: count, dtype: int64\n"
     ]
    }
   ],
   "source": [
    "# Колличество студентов по рассовой принадлежности\n",
    "ethnicity_counts = students_performance['race/ethnicity'].value_counts()\n",
    "print (ethnicity_counts)"
   ]
  },
  {
   "cell_type": "code",
   "execution_count": 101,
   "id": "42adfb24-56fc-4084-90e5-d94f8c33376d",
   "metadata": {},
   "outputs": [
    {
     "data": {
      "text/html": [
       "<div>\n",
       "<style scoped>\n",
       "    .dataframe tbody tr th:only-of-type {\n",
       "        vertical-align: middle;\n",
       "    }\n",
       "\n",
       "    .dataframe tbody tr th {\n",
       "        vertical-align: top;\n",
       "    }\n",
       "\n",
       "    .dataframe thead th {\n",
       "        text-align: right;\n",
       "    }\n",
       "</style>\n",
       "<table border=\"1\" class=\"dataframe\">\n",
       "  <thead>\n",
       "    <tr style=\"text-align: right;\">\n",
       "      <th></th>\n",
       "      <th>math score</th>\n",
       "      <th>reading score</th>\n",
       "      <th>writing score</th>\n",
       "    </tr>\n",
       "    <tr>\n",
       "      <th>race/ethnicity</th>\n",
       "      <th></th>\n",
       "      <th></th>\n",
       "      <th></th>\n",
       "    </tr>\n",
       "  </thead>\n",
       "  <tbody>\n",
       "    <tr>\n",
       "      <th>group A</th>\n",
       "      <td>61.629213</td>\n",
       "      <td>64.674157</td>\n",
       "      <td>62.674157</td>\n",
       "    </tr>\n",
       "    <tr>\n",
       "      <th>group B</th>\n",
       "      <td>63.452632</td>\n",
       "      <td>67.352632</td>\n",
       "      <td>65.600000</td>\n",
       "    </tr>\n",
       "    <tr>\n",
       "      <th>group C</th>\n",
       "      <td>64.463950</td>\n",
       "      <td>69.103448</td>\n",
       "      <td>67.827586</td>\n",
       "    </tr>\n",
       "    <tr>\n",
       "      <th>group D</th>\n",
       "      <td>67.362595</td>\n",
       "      <td>70.030534</td>\n",
       "      <td>70.145038</td>\n",
       "    </tr>\n",
       "    <tr>\n",
       "      <th>group E</th>\n",
       "      <td>73.821429</td>\n",
       "      <td>73.028571</td>\n",
       "      <td>71.407143</td>\n",
       "    </tr>\n",
       "  </tbody>\n",
       "</table>\n",
       "</div>"
      ],
      "text/plain": [
       "                math score  reading score  writing score\n",
       "race/ethnicity                                          \n",
       "group A          61.629213      64.674157      62.674157\n",
       "group B          63.452632      67.352632      65.600000\n",
       "group C          64.463950      69.103448      67.827586\n",
       "group D          67.362595      70.030534      70.145038\n",
       "group E          73.821429      73.028571      71.407143"
      ]
     },
     "metadata": {},
     "output_type": "display_data"
    }
   ],
   "source": [
    "# cредние оценки по расовой принадлежности\n",
    "average_scores_by_race = students_performance.groupby('race/ethnicity')[['math score', 'reading score', 'writing score']].mean()\n",
    "display (average_scores_by_race)"
   ]
  }
 ],
 "metadata": {
  "kernelspec": {
   "display_name": "Python 3 (ipykernel)",
   "language": "python",
   "name": "python3"
  },
  "language_info": {
   "codemirror_mode": {
    "name": "ipython",
    "version": 3
   },
   "file_extension": ".py",
   "mimetype": "text/x-python",
   "name": "python",
   "nbconvert_exporter": "python",
   "pygments_lexer": "ipython3",
   "version": "3.12.4"
  }
 },
 "nbformat": 4,
 "nbformat_minor": 5
}
